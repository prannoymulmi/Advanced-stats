{
 "cells": [
  {
   "cell_type": "code",
   "execution_count": 56,
   "outputs": [
    {
     "data": {
      "text/plain": "(array([ 1.,  0.,  0.,  0.,  0.,  0.,  0.,  0.,  0.,  0.,  0.,  0.,  0.,\n         0.,  0.,  0.,  0.,  0.,  0.,  0.,  0.,  0.,  0.,  0.,  0.,  0.,\n         0.,  1.,  0.,  0.,  0.,  0.,  0.,  0.,  0.,  0.,  0.,  0.,  0.,\n         0.,  1.,  0.,  0.,  0.,  0.,  0.,  0.,  0.,  0.,  0.,  0.,  0.,\n         0.,  0.,  0.,  0.,  0.,  0.,  1.,  0.,  0.,  0.,  0.,  1.,  0.,\n         0.,  0.,  0.,  1.,  0.,  0.,  0.,  0.,  0.,  0.,  0.,  0.,  1.,\n         0.,  1.,  0.,  0.,  1.,  0.,  0.,  1.,  1.,  0.,  0.,  0.,  0.,\n         0.,  2.,  1.,  1.,  0.,  1.,  3.,  0.,  2.,  2.,  2.,  2.,  1.,\n         1.,  1.,  1.,  2.,  3.,  4.,  2.,  3.,  5.,  1.,  6.,  1.,  5.,\n         5.,  3.,  4.,  4.,  5.,  6.,  5.,  4.,  8.,  4.,  2.,  5.,  7.,\n         4.,  7., 11., 10., 14., 18.,  6., 11., 12.,  9., 23., 17., 19.,\n        18., 18., 15., 18., 24., 27., 28., 22., 19., 26., 36., 28., 28.,\n        21., 23., 19., 22., 20., 22., 10., 19., 13., 10., 21.,  9., 12.,\n         9., 13., 13.,  9.,  5., 10.,  6.,  6.,  6.,  6.,  8.,  2.,  5.,\n         2.,  2.,  3.,  6.,  4.,  5.,  2.,  2.,  5.,  0.,  3.,  2.,  3.,\n         1.,  4.,  2.,  3.,  1.,  2.,  5.,  0.,  0.,  2.,  0.,  2.,  3.,\n         2.,  1.,  2.,  0.,  0.,  0.,  0.,  0.,  0.,  0.,  0.,  0.,  1.,\n         1.,  0.,  0.,  0.,  2.,  1.,  0.,  0.,  0.,  1.,  1.,  0.,  1.,\n         0.,  0.,  0.,  1.,  0.,  0.,  1.,  0.,  0.,  0.,  0.,  0.,  1.,\n         0.,  0.,  0.,  0.,  0.,  1.,  0.,  2.,  0.,  1.,  0.,  0.,  1.,\n         0.,  0.,  0.,  0.,  0.,  1.,  0.,  0.,  0.,  0.,  0.,  0.,  0.,\n         0.,  0.,  0.,  0.,  0.,  0.,  0.,  0.,  0.,  0.,  0.,  0.,  0.,\n         0.,  0.,  0.,  0.,  0.,  0.,  0.,  1.,  0.,  0.,  0.,  0.,  0.,\n         1.]),\n array([-27.08662932, -26.77682206, -26.4670148 , -26.15720755,\n        -25.84740029, -25.53759303, -25.22778577, -24.91797851,\n        -24.60817125, -24.29836399, -23.98855674, -23.67874948,\n        -23.36894222, -23.05913496, -22.7493277 , -22.43952044,\n        -22.12971319, -21.81990593, -21.51009867, -21.20029141,\n        -20.89048415, -20.58067689, -20.27086964, -19.96106238,\n        -19.65125512, -19.34144786, -19.0316406 , -18.72183334,\n        -18.41202608, -18.10221883, -17.79241157, -17.48260431,\n        -17.17279705, -16.86298979, -16.55318253, -16.24337528,\n        -15.93356802, -15.62376076, -15.3139535 , -15.00414624,\n        -14.69433898, -14.38453173, -14.07472447, -13.76491721,\n        -13.45510995, -13.14530269, -12.83549543, -12.52568818,\n        -12.21588092, -11.90607366, -11.5962664 , -11.28645914,\n        -10.97665188, -10.66684462, -10.35703737, -10.04723011,\n         -9.73742285,  -9.42761559,  -9.11780833,  -8.80800107,\n         -8.49819382,  -8.18838656,  -7.8785793 ,  -7.56877204,\n         -7.25896478,  -6.94915752,  -6.63935027,  -6.32954301,\n         -6.01973575,  -5.70992849,  -5.40012123,  -5.09031397,\n         -4.78050672,  -4.47069946,  -4.1608922 ,  -3.85108494,\n         -3.54127768,  -3.23147042,  -2.92166316,  -2.61185591,\n         -2.30204865,  -1.99224139,  -1.68243413,  -1.37262687,\n         -1.06281961,  -0.75301236,  -0.4432051 ,  -0.13339784,\n          0.17640942,   0.48621668,   0.79602394,   1.10583119,\n          1.41563845,   1.72544571,   2.03525297,   2.34506023,\n          2.65486749,   2.96467474,   3.274482  ,   3.58428926,\n          3.89409652,   4.20390378,   4.51371104,   4.8235183 ,\n          5.13332555,   5.44313281,   5.75294007,   6.06274733,\n          6.37255459,   6.68236185,   6.9921691 ,   7.30197636,\n          7.61178362,   7.92159088,   8.23139814,   8.5412054 ,\n          8.85101265,   9.16081991,   9.47062717,   9.78043443,\n         10.09024169,  10.40004895,  10.7098562 ,  11.01966346,\n         11.32947072,  11.63927798,  11.94908524,  12.2588925 ,\n         12.56869976,  12.87850701,  13.18831427,  13.49812153,\n         13.80792879,  14.11773605,  14.42754331,  14.73735056,\n         15.04715782,  15.35696508,  15.66677234,  15.9765796 ,\n         16.28638686,  16.59619411,  16.90600137,  17.21580863,\n         17.52561589,  17.83542315,  18.14523041,  18.45503766,\n         18.76484492,  19.07465218,  19.38445944,  19.6942667 ,\n         20.00407396,  20.31388122,  20.62368847,  20.93349573,\n         21.24330299,  21.55311025,  21.86291751,  22.17272477,\n         22.48253202,  22.79233928,  23.10214654,  23.4119538 ,\n         23.72176106,  24.03156832,  24.34137557,  24.65118283,\n         24.96099009,  25.27079735,  25.58060461,  25.89041187,\n         26.20021912,  26.51002638,  26.81983364,  27.1296409 ,\n         27.43944816,  27.74925542,  28.05906268,  28.36886993,\n         28.67867719,  28.98848445,  29.29829171,  29.60809897,\n         29.91790623,  30.22771348,  30.53752074,  30.847328  ,\n         31.15713526,  31.46694252,  31.77674978,  32.08655703,\n         32.39636429,  32.70617155,  33.01597881,  33.32578607,\n         33.63559333,  33.94540058,  34.25520784,  34.5650151 ,\n         34.87482236,  35.18462962,  35.49443688,  35.80424414,\n         36.11405139,  36.42385865,  36.73366591,  37.04347317,\n         37.35328043,  37.66308769,  37.97289494,  38.2827022 ,\n         38.59250946,  38.90231672,  39.21212398,  39.52193124,\n         39.83173849,  40.14154575,  40.45135301,  40.76116027,\n         41.07096753,  41.38077479,  41.69058205,  42.0003893 ,\n         42.31019656,  42.62000382,  42.92981108,  43.23961834,\n         43.5494256 ,  43.85923285,  44.16904011,  44.47884737,\n         44.78865463,  45.09846189,  45.40826915,  45.7180764 ,\n         46.02788366,  46.33769092,  46.64749818,  46.95730544,\n         47.2671127 ,  47.57691995,  47.88672721,  48.19653447,\n         48.50634173,  48.81614899,  49.12595625,  49.43576351,\n         49.74557076,  50.05537802,  50.36518528,  50.67499254,\n         50.9847998 ,  51.29460706,  51.60441431,  51.91422157,\n         52.22402883,  52.53383609,  52.84364335,  53.15345061,\n         53.46325786,  53.77306512,  54.08287238,  54.39267964,\n         54.7024869 ,  55.01229416,  55.32210141,  55.63190867,\n         55.94171593,  56.25152319,  56.56133045,  56.87113771,\n         57.18094497,  57.49075222,  57.80055948,  58.11036674,\n         58.420174  ,  58.72998126,  59.03978852,  59.34959577,\n         59.65940303,  59.96921029,  60.27901755,  60.58882481,\n         60.89863207,  61.20843932,  61.51824658,  61.82805384,\n         62.1378611 ,  62.44766836,  62.75747562,  63.06728287,\n         63.37709013,  63.68689739,  63.99670465,  64.30651191,\n         64.61631917,  64.92612643,  65.23593368,  65.54574094,\n         65.8555482 ]),\n <BarContainer object of 300 artists>)"
     },
     "execution_count": 56,
     "metadata": {},
     "output_type": "execute_result"
    },
    {
     "data": {
      "text/plain": "<Figure size 432x288 with 1 Axes>",
      "image/png": "[encoded data removed]"
     },
     "metadata": {
      "needs_background": "light"
     },
     "output_type": "display_data"
    }
   ],
   "source": [
    "import numpy as np\n",
    "import matplotlib.pyplot as plt\n",
    "import scipy.stats as stats\n",
    "\n",
    "#measurements = stats.norm.rvs(loc=20, scale=5, size=1000)\n",
    "measurements = stats.t.rvs(df=3, loc=20, scale=5, size=1000)\n",
    "# measurements = stats.expon.rvs(scale=5, size=1000)\n",
    "mean = np.mean(measurements)\n",
    "std = np.std(measurements, ddof=1)\n",
    "\n",
    "plt.hist(measurements, bins=300)"
   ],
   "metadata": {
    "collapsed": false,
    "pycharm": {
     "name": "#%%\n"
    }
   }
  },
  {
   "cell_type": "code",
   "execution_count": 56,
   "outputs": [],
   "source": [],
   "metadata": {
    "collapsed": false,
    "pycharm": {
     "name": "#%%\n"
    }
   }
  }
 ],
 "metadata": {
  "kernelspec": {
   "display_name": "Python 3",
   "language": "python",
   "name": "python3"
  },
  "language_info": {
   "codemirror_mode": {
    "name": "ipython",
    "version": 2
   },
   "file_extension": ".py",
   "mimetype": "text/x-python",
   "name": "python",
   "nbconvert_exporter": "python",
   "pygments_lexer": "ipython2",
   "version": "2.7.6"
  }
 },
 "nbformat": 4,
 "nbformat_minor": 0
}