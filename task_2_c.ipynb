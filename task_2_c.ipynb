{
 "cells": [
  {
   "cell_type": "code",
   "execution_count": 99,
   "outputs": [
    {
     "name": "stderr",
     "output_type": "stream",
     "text": [
      "/var/folders/6s/tnj8wbz97gxg3bh5_n4jxbzwv7_p53/T/ipykernel_97362/1751040881.py:6: RuntimeWarning: invalid value encountered in sqrt\n",
      "  odd_first = x * np.log(1 + np.sqrt(1 - x * x))\n",
      "/var/folders/6s/tnj8wbz97gxg3bh5_n4jxbzwv7_p53/T/ipykernel_97362/1751040881.py:7: RuntimeWarning: invalid value encountered in sqrt\n",
      "  odd_second = x * np.log(1 + np.sqrt(1 - x * x))\n",
      "/var/folders/6s/tnj8wbz97gxg3bh5_n4jxbzwv7_p53/T/ipykernel_97362/1751040881.py:8: RuntimeWarning: invalid value encountered in sqrt\n",
      "  pdf=(np.log(1 + np.sqrt(1 - x * x))+np.log(1 + np.sqrt(1 - x * x)))/(2*np.pi)\n"
     ]
    },
    {
     "data": {
      "text/plain": "<Figure size 432x288 with 1 Axes>",
      "image/png": "[encoded data removed]"
     },
     "metadata": {
      "needs_background": "light"
     },
     "output_type": "display_data"
    }
   ],
   "source": [
    "import numpy as np\n",
    "import matplotlib.pyplot as plt\n",
    "\n",
    "#Arrange\n",
    "x=np.arange(-1, 1, 0.00000001)\n",
    "odd_first = x * np.log(1 + np.sqrt(1 - x * x))\n",
    "odd_second = x * np.log(1 + np.sqrt(1 - x * x))\n",
    "pdf=(np.log(1 + np.sqrt(1 - x * x))+np.log(1 + np.sqrt(1 - x * x)))/(2*np.pi)\n",
    "limits = [-1, 1]\n",
    "plt.xlim(limits)\n",
    "plt.ylim(limits)\n",
    "#\n",
    "# # Set labels\n",
    "plt.ylabel('y')\n",
    "plt.xlabel('x')\n",
    "axis= plt.gca()\n",
    "\n",
    "# Plot\n",
    "plt.plot(axis.get_xlim(), [0, 0], 'k--')\n",
    "plt.plot([0,0], axis.get_ylim(),'k--')\n",
    "plt.plot(x, odd_first, label= 'x * np.log(1 + np.sqrt(1 - x * x))')\n",
    "plt.plot(x, odd_second, label='x * np.log(1 - np.sqrt(1 - x * x))')\n",
    "plt.legend()\n",
    "plt.savefig('images/task_2_b_odd_func.pdf')\n",
    "plt.show()\n",
    "plt.subplot()\n",
    "# plt.plot(x, pdf)\n",
    "# plt.savefig('images/task_2_b_pdf.pdf')"
   ],
   "metadata": {
    "collapsed": false,
    "pycharm": {
     "name": "#%%\n"
    }
   }
  }
 ],
 "metadata": {
  "kernelspec": {
   "display_name": "Python 3",
   "language": "python",
   "name": "python3"
  },
  "language_info": {
   "codemirror_mode": {
    "name": "ipython",
    "version": 2
   },
   "file_extension": ".py",
   "mimetype": "text/x-python",
   "name": "python",
   "nbconvert_exporter": "python",
   "pygments_lexer": "ipython2",
   "version": "2.7.6"
  }
 },
 "nbformat": 4,
 "nbformat_minor": 0
}